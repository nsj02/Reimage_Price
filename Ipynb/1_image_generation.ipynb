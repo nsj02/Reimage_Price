{
 "cells": [
  {
   "cell_type": "markdown",
   "metadata": {
    "id": "title"
   },
   "source": "# Re-Imaging Price Trends - Image Generation\n\n**Purpose**: Convert stock price data to candlestick chart images and save to disk\n\n**Next Step**: Run `2_model_training.ipynb` after completion"
  },
  {
   "cell_type": "code",
   "execution_count": null,
   "metadata": {
    "colab": {
     "base_uri": "https://localhost:8080/"
    },
    "id": "setup",
    "outputId": "ebbd7683-c616-4dc3-f01c-81e1be69511f"
   },
   "outputs": [],
   "source": "from google.colab import drive\ndrive.mount('/content/drive')\n\nimport os\nos.chdir('/content/drive/MyDrive/ReImaging_Price_Trends')\nprint(f\"Current directory: {os.getcwd()}\")\nprint(f\"File list: {[f for f in os.listdir('.') if not f.startswith('.')]}\")\n\n# Check Numba JIT performance optimization\ntry:\n    import numba\n    print(f\"Numba JIT available: {numba.__version__}\")\n    print(\"   Image generation speed improved by 50-100x!\")\nexcept ImportError:\n    print(\"Numba installation failed - check requirements.txt\")\n\n# Check memory status\nimport psutil\nmemory = psutil.virtual_memory()\nprint(f\"Available memory: {memory.available // (1024**3):.1f}GB\")\nif memory.available < 2 * (1024**3):  # Less than 2GB\n    print(\"Warning: Low memory - recommend using --parallel 1 option\")"
  },
  {
   "cell_type": "code",
   "execution_count": null,
   "metadata": {
    "colab": {
     "base_uri": "https://localhost:8080/"
    },
    "id": "uDIaYO26WOlU",
    "outputId": "05f38777-db66-4458-d5de-71cd3e438df9"
   },
   "outputs": [
    {
     "name": "stdout",
     "output_type": "stream",
     "text": [
      "Requirement already satisfied: torch>=2.0.0 in /usr/local/lib/python3.11/dist-packages (from -r requirements.txt (line 5)) (2.6.0+cpu)\n",
      "Requirement already satisfied: torchvision>=0.15.0 in /usr/local/lib/python3.11/dist-packages (from -r requirements.txt (line 6)) (0.21.0+cpu)\n",
      "Requirement already satisfied: numpy>=1.24.0 in /usr/local/lib/python3.11/dist-packages (from -r requirements.txt (line 7)) (2.0.2)\n",
      "Requirement already satisfied: pandas>=2.0.0 in /usr/local/lib/python3.11/dist-packages (from -r requirements.txt (line 8)) (2.2.2)\n",
      "Requirement already satisfied: pyarrow>=14.0.0 in /usr/local/lib/python3.11/dist-packages (from -r requirements.txt (line 11)) (21.0.0)\n",
      "Requirement already satisfied: fastparquet>=2023.10.0 in /usr/local/lib/python3.11/dist-packages (from -r requirements.txt (line 12)) (2024.11.0)\n",
      "Requirement already satisfied: h5py>=3.8.0 in /usr/local/lib/python3.11/dist-packages (from -r requirements.txt (line 13)) (3.14.0)\n",
      "Requirement already satisfied: tables>=3.8.0 in /usr/local/lib/python3.11/dist-packages (from -r requirements.txt (line 14)) (3.10.2)\n",
      "Requirement already satisfied: feather-format>=0.4.1 in /usr/local/lib/python3.11/dist-packages (from -r requirements.txt (line 15)) (0.4.1)\n",
      "Requirement already satisfied: matplotlib>=3.7.0 in /usr/local/lib/python3.11/dist-packages (from -r requirements.txt (line 18)) (3.10.0)\n",
      "Requirement already satisfied: seaborn>=0.12.0 in /usr/local/lib/python3.11/dist-packages (from -r requirements.txt (line 19)) (0.13.2)\n",
      "Requirement already satisfied: tqdm>=4.65.0 in /usr/local/lib/python3.11/dist-packages (from -r requirements.txt (line 22)) (4.67.1)\n",
      "Requirement already satisfied: joblib>=1.3.0 in /usr/local/lib/python3.11/dist-packages (from -r requirements.txt (line 23)) (1.5.1)\n",
      "Requirement already satisfied: psutil>=5.9.0 in /usr/local/lib/python3.11/dist-packages (from -r requirements.txt (line 24)) (5.9.5)\n",
      "Requirement already satisfied: scipy>=1.10.0 in /usr/local/lib/python3.11/dist-packages (from -r requirements.txt (line 27)) (1.16.0)\n",
      "Requirement already satisfied: scikit-learn>=1.3.0 in /usr/local/lib/python3.11/dist-packages (from -r requirements.txt (line 28)) (1.6.1)\n",
      "Requirement already satisfied: numba>=0.58.0 in /usr/local/lib/python3.11/dist-packages (from -r requirements.txt (line 31)) (0.61.2)\n",
      "Requirement already satisfied: wrds>=3.4.0 in /usr/local/lib/python3.11/dist-packages (from -r requirements.txt (line 34)) (3.4.0)\n",
      "Requirement already satisfied: psycopg2-binary>=2.9.0 in /usr/local/lib/python3.11/dist-packages (from -r requirements.txt (line 35)) (2.9.10)\n",
      "Requirement already satisfied: sqlalchemy>=2.0.0 in /usr/local/lib/python3.11/dist-packages (from -r requirements.txt (line 36)) (2.0.41)\n",
      "Requirement already satisfied: filelock in /usr/local/lib/python3.11/dist-packages (from torch>=2.0.0->-r requirements.txt (line 5)) (3.18.0)\n",
      "Requirement already satisfied: typing-extensions>=4.10.0 in /usr/local/lib/python3.11/dist-packages (from torch>=2.0.0->-r requirements.txt (line 5)) (4.14.1)\n",
      "Requirement already satisfied: networkx in /usr/local/lib/python3.11/dist-packages (from torch>=2.0.0->-r requirements.txt (line 5)) (3.5)\n",
      "Requirement already satisfied: jinja2 in /usr/local/lib/python3.11/dist-packages (from torch>=2.0.0->-r requirements.txt (line 5)) (3.1.6)\n",
      "Requirement already satisfied: fsspec in /usr/local/lib/python3.11/dist-packages (from torch>=2.0.0->-r requirements.txt (line 5)) (2025.7.0)\n",
      "Requirement already satisfied: sympy==1.13.1 in /usr/local/lib/python3.11/dist-packages (from torch>=2.0.0->-r requirements.txt (line 5)) (1.13.1)\n",
      "Requirement already satisfied: mpmath<1.4,>=1.1.0 in /usr/local/lib/python3.11/dist-packages (from sympy==1.13.1->torch>=2.0.0->-r requirements.txt (line 5)) (1.3.0)\n",
      "Requirement already satisfied: pillow!=8.3.*,>=5.3.0 in /usr/local/lib/python3.11/dist-packages (from torchvision>=0.15.0->-r requirements.txt (line 6)) (11.3.0)\n",
      "Requirement already satisfied: python-dateutil>=2.8.2 in /usr/local/lib/python3.11/dist-packages (from pandas>=2.0.0->-r requirements.txt (line 8)) (2.9.0.post0)\n",
      "Requirement already satisfied: pytz>=2020.1 in /usr/local/lib/python3.11/dist-packages (from pandas>=2.0.0->-r requirements.txt (line 8)) (2025.2)\n",
      "Requirement already satisfied: tzdata>=2022.7 in /usr/local/lib/python3.11/dist-packages (from pandas>=2.0.0->-r requirements.txt (line 8)) (2025.2)\n",
      "Requirement already satisfied: cramjam>=2.3 in /usr/local/lib/python3.11/dist-packages (from fastparquet>=2023.10.0->-r requirements.txt (line 12)) (2.11.0)\n",
      "Requirement already satisfied: packaging in /usr/local/lib/python3.11/dist-packages (from fastparquet>=2023.10.0->-r requirements.txt (line 12)) (24.2)\n",
      "Requirement already satisfied: numexpr>=2.6.2 in /usr/local/lib/python3.11/dist-packages (from tables>=3.8.0->-r requirements.txt (line 14)) (2.11.0)\n",
      "Requirement already satisfied: py-cpuinfo in /usr/local/lib/python3.11/dist-packages (from tables>=3.8.0->-r requirements.txt (line 14)) (9.0.0)\n",
      "Requirement already satisfied: blosc2>=2.3.0 in /usr/local/lib/python3.11/dist-packages (from tables>=3.8.0->-r requirements.txt (line 14)) (3.6.1)\n",
      "Requirement already satisfied: contourpy>=1.0.1 in /usr/local/lib/python3.11/dist-packages (from matplotlib>=3.7.0->-r requirements.txt (line 18)) (1.3.2)\n",
      "Requirement already satisfied: cycler>=0.10 in /usr/local/lib/python3.11/dist-packages (from matplotlib>=3.7.0->-r requirements.txt (line 18)) (0.12.1)\n",
      "Requirement already satisfied: fonttools>=4.22.0 in /usr/local/lib/python3.11/dist-packages (from matplotlib>=3.7.0->-r requirements.txt (line 18)) (4.59.0)\n",
      "Requirement already satisfied: kiwisolver>=1.3.1 in /usr/local/lib/python3.11/dist-packages (from matplotlib>=3.7.0->-r requirements.txt (line 18)) (1.4.8)\n",
      "Requirement already satisfied: pyparsing>=2.3.1 in /usr/local/lib/python3.11/dist-packages (from matplotlib>=3.7.0->-r requirements.txt (line 18)) (3.2.3)\n",
      "Requirement already satisfied: threadpoolctl>=3.1.0 in /usr/local/lib/python3.11/dist-packages (from scikit-learn>=1.3.0->-r requirements.txt (line 28)) (3.6.0)\n",
      "Requirement already satisfied: llvmlite<0.45,>=0.44.0dev0 in /usr/local/lib/python3.11/dist-packages (from numba>=0.58.0->-r requirements.txt (line 31)) (0.44.0)\n",
      "Requirement already satisfied: greenlet>=1 in /usr/local/lib/python3.11/dist-packages (from sqlalchemy>=2.0.0->-r requirements.txt (line 36)) (3.2.3)\n",
      "Requirement already satisfied: ndindex in /usr/local/lib/python3.11/dist-packages (from blosc2>=2.3.0->tables>=3.8.0->-r requirements.txt (line 14)) (1.10.0)\n",
      "Requirement already satisfied: msgpack in /usr/local/lib/python3.11/dist-packages (from blosc2>=2.3.0->tables>=3.8.0->-r requirements.txt (line 14)) (1.1.1)\n",
      "Requirement already satisfied: platformdirs in /usr/local/lib/python3.11/dist-packages (from blosc2>=2.3.0->tables>=3.8.0->-r requirements.txt (line 14)) (4.3.8)\n",
      "Requirement already satisfied: requests in /usr/local/lib/python3.11/dist-packages (from blosc2>=2.3.0->tables>=3.8.0->-r requirements.txt (line 14)) (2.32.3)\n",
      "Requirement already satisfied: six>=1.5 in /usr/local/lib/python3.11/dist-packages (from python-dateutil>=2.8.2->pandas>=2.0.0->-r requirements.txt (line 8)) (1.17.0)\n",
      "Requirement already satisfied: MarkupSafe>=2.0 in /usr/local/lib/python3.11/dist-packages (from jinja2->torch>=2.0.0->-r requirements.txt (line 5)) (3.0.2)\n",
      "Requirement already satisfied: charset-normalizer<4,>=2 in /usr/local/lib/python3.11/dist-packages (from requests->blosc2>=2.3.0->tables>=3.8.0->-r requirements.txt (line 14)) (3.4.2)\n",
      "Requirement already satisfied: idna<4,>=2.5 in /usr/local/lib/python3.11/dist-packages (from requests->blosc2>=2.3.0->tables>=3.8.0->-r requirements.txt (line 14)) (3.10)\n",
      "Requirement already satisfied: urllib3<3,>=1.21.1 in /usr/local/lib/python3.11/dist-packages (from requests->blosc2>=2.3.0->tables>=3.8.0->-r requirements.txt (line 14)) (2.5.0)\n",
      "Requirement already satisfied: certifi>=2017.4.17 in /usr/local/lib/python3.11/dist-packages (from requests->blosc2>=2.3.0->tables>=3.8.0->-r requirements.txt (line 14)) (2025.7.14)\n"
     ]
    }
   ],
   "source": [
    " # 환경 설정 및 최적화 확인\n",
    "!pip install -r requirements.txt"
   ]
  },
  {
   "cell_type": "code",
   "execution_count": null,
   "metadata": {
    "colab": {
     "base_uri": "https://localhost:8080/"
    },
    "id": "check_data",
    "outputId": "efdc3f87-4904-4ace-9807-99f7e6fd0b93"
   },
   "outputs": [],
   "source": "# Check data files\ndata_files = [\n    'data/data_1993_2000_train_val.parquet',\n    'data/data_2001_2019_test.parquet'\n]\n\nprint(\"Data file check:\")\nall_exist = True\nfor file in data_files:\n    if os.path.exists(file):\n        size_mb = os.path.getsize(file) / (1024**2)\n        print(f\"✓ {file} ({size_mb:.1f}MB)\")\n    else:\n        print(f\"✗ {file} missing\")\n        all_exist = False\n\nif not all_exist:\n    print(\"\\nWarning: Data files missing. Run data/datageneration.ipynb first.\")"
  },
  {
   "cell_type": "code",
   "execution_count": null,
   "metadata": {
    "colab": {
     "base_uri": "https://localhost:8080/"
    },
    "id": "CFUdru-tWp99",
    "outputId": "81f3e10e-4a45-4804-c9ba-6ebe58e2c60f"
   },
   "outputs": [],
   "source": "!python datageneration.py --image_days 5 --mode train --sample_rate 1.0"
  },
  {
   "cell_type": "code",
   "execution_count": null,
   "metadata": {
    "colab": {
     "base_uri": "https://localhost:8080/"
    },
    "id": "nZ59I-12WqBR",
    "outputId": "0b4aa880-39ab-4dda-ecc2-a733007283d2"
   },
   "outputs": [],
   "source": "!python datageneration.py --image_days 5 --mode test --sample_rate 1.0"
  },
  {
   "cell_type": "code",
   "execution_count": null,
   "metadata": {
    "colab": {
     "background_save": true,
     "base_uri": "https://localhost:8080/"
    },
    "id": "e364yHm3WuKu",
    "outputId": "5caf4e38-791b-49ad-bbfb-84ed85be3afd"
   },
   "outputs": [],
   "source": "!python datageneration.py --image_days 20 --mode train --sample_rate 1.0"
  },
  {
   "cell_type": "code",
   "execution_count": null,
   "metadata": {
    "colab": {
     "background_save": true
    },
    "id": "8rYCjUz1WuOT",
    "outputId": "65485882-fcad-4b09-c071-81fda1d21cf6"
   },
   "outputs": [],
   "source": "!python datageneration.py --image_days 20 --mode test --sample_rate 1.0"
  },
  {
   "cell_type": "code",
   "execution_count": null,
   "metadata": {
    "colab": {
     "background_save": true
    },
    "id": "AzOdTTUWWuVY",
    "outputId": "887257de-5034-4681-dbc3-fb26d13d7c83"
   },
   "outputs": [],
   "source": "!python datageneration.py --image_days 60 --mode train --sample_rate 1.0"
  },
  {
   "cell_type": "code",
   "execution_count": null,
   "metadata": {
    "colab": {
     "background_save": true
    },
    "id": "NAdjbgovWuu_",
    "outputId": "0489842d-c709-4e13-dccd-4bc48a30124c"
   },
   "outputs": [],
   "source": "!python datageneration.py --image_days 60 --mode test --sample_rate 1.0"
  },
  {
   "cell_type": "code",
   "execution_count": null,
   "metadata": {
    "id": "verify_images"
   },
   "outputs": [],
   "source": "# Check generated original format images\nimport pandas as pd\nimport os\nimport numpy as np\n\nprint(\"Generated original format image summary:\")\n\n# Check original format directories\noriginal_dirs = {\n    'weekly_5d': (5, '5d_week_has_vb_[5]_ma'),\n    'monthly_20d': (20, '20d_month_has_vb_[20]_ma'),\n    'quarterly_60d': (60, '60d_quarter_has_vb_[60]_ma')\n}\n\nbase_dir = 'img_data_reconstructed'\nif os.path.exists(base_dir):\n    total_images = 0\n    total_size_gb = 0\n    success_count = 0\n\n    for dir_name, (win_size, prefix) in original_dirs.items():\n        img_dir = os.path.join(base_dir, dir_name)\n\n        if os.path.exists(img_dir):\n            # Check .dat and .feather files\n            dat_files = [f for f in os.listdir(img_dir) if f.endswith('.dat')]\n            feather_files = [f for f in os.listdir(img_dir) if f.endswith('.feather')]\n\n            dir_images = 0\n            dir_size = 0\n\n            # Check files for each year\n            for dat_file in dat_files:\n                dat_path = os.path.join(img_dir, dat_file)\n\n                # Calculate image count (based on .dat file size)\n                file_size = os.path.getsize(dat_path)\n                if win_size == 5:\n                    image_size = 32 * 15  # 5-day: 32x15\n                elif win_size == 20:\n                    image_size = 64 * 60  # 20-day: 64x60\n                else:  # 60\n                    image_size = 96 * 180  # 60-day: 96x180\n\n                num_images = file_size // image_size\n                dir_images += num_images\n                dir_size += file_size\n\n            # Add .feather file sizes\n            for feather_file in feather_files:\n                feather_path = os.path.join(img_dir, feather_file)\n                dir_size += os.path.getsize(feather_path)\n\n            size_gb = dir_size / (1024**3)\n            total_size_gb += size_gb\n\n            print(f\"✓ {dir_name}: {dir_images:,} images, {size_gb:.2f}GB\")\n            print(f\"   .dat files: {len(dat_files)}, .feather files: {len(feather_files)}\")\n\n            total_images += dir_images\n            success_count += 1\n        else:\n            print(f\"✗ {dir_name}: not generated\")\n\n    print(f\"\\nFinal results:\")\n    print(f\"   Success: {success_count}/{len(original_dirs)} directories\")\n    print(f\"   Total images: {total_images:,}\")\n    print(f\"   Total size: {total_size_gb:.2f}GB\")\n    print(f\"   Average size per image: {total_size_gb*1024*1024/max(total_images,1):.1f}KB\")\n\n    if success_count == len(original_dirs):\n        print(f\"\\nAll original format images generated successfully!\")\n        print(f\"Save path: {base_dir}/\")\n        print(f\"Format: .dat (binary images) + .feather (labels)\")\n        print(f\"\\nSaved in same format as original paper authors\")\n    else:\n        print(f\"\\nWarning: {len(original_dirs)-success_count} directories failed\")\n        print(\"   Check create_original_format.py error logs.\")\n\n    # Check label_columns.txt file\n    label_file = os.path.join(base_dir, 'label_columns.txt')\n    if os.path.exists(label_file):\n        print(f\"\\nMetadata: {label_file} created\")\n        with open(label_file, 'r') as f:\n            print(\"   Contents:\")\n            for line in f.readlines()[:3]:  # Show first 3 lines only\n                print(f\"   {line.strip()}\")\nelse:\n    print(f\"✗ {base_dir} directory not created.\")\n    print(\"   Check create_original_format.py execution.\")"
  }
 ],
 "metadata": {
  "accelerator": "TPU",
  "colab": {
   "gpuType": "V28",
   "provenance": []
  },
  "kernelspec": {
   "display_name": "Python 3",
   "name": "python3"
  },
  "language_info": {
   "name": "python"
  }
 },
 "nbformat": 4,
 "nbformat_minor": 0
}