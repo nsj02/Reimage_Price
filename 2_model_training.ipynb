{
 "cells": [
  {
   "cell_type": "markdown",
   "metadata": {
    "id": "title"
   },
   "source": [
    "# 2️⃣ Re-Imaging Price Trends - 모델 학습 & 평가\n",
    "\n",
    "**전제조건**: `1_image_generation.ipynb` 완료\n",
    "\n",
    "**실행 내용**: CNN 모델 학습 → 포트폴리오 성과 평가 → 결과 시각화"
   ]
  },
  {
   "cell_type": "code",
   "execution_count": null,
   "metadata": {
    "id": "setup"
   },
   "outputs": [],
   "source": [
    "# 환경 설정\n",
    "!pip install -r requirements.txt\n",
    "\n",
    "from google.colab import drive\n",
    "drive.mount('/content/drive')\n",
    "\n",
    "import os\n",
    "os.chdir('/content/drive/MyDrive/ReImaging_Price_Trends')\n",
    "print(f\"📁 현재 디렉토리: {os.getcwd()}\")\n",
    "\n",
    "# GPU 확인\n",
    "import torch\n",
    "print(f\"🖥️ GPU: {torch.cuda.get_device_name(0) if torch.cuda.is_available() else 'CPU'}\")"
   ]
  },
  {
   "cell_type": "code",
   "execution_count": null,
   "metadata": {
    "id": "verify_images"
   },
   "outputs": [],
   "source": [
    "# 이미지 생성 완료 확인\n",
    "required_dirs = ['train_I5R5', 'train_I20R20', 'train_I60R60', 'test_I5R5', 'test_I20R20', 'test_I60R60']\n",
    "missing = []\n",
    "\n",
    "for dir_name in required_dirs:\n",
    "    metadata_file = f'images/{dir_name}/metadata.csv'\n",
    "    if os.path.exists(metadata_file):\n",
    "        print(f\"✅ {dir_name}\")\n",
    "    else:\n",
    "        print(f\"❌ {dir_name}\")\n",
    "        missing.append(dir_name)\n",
    "\n",
    "if missing:\n",
    "    print(f\"\\n⚠️ 이미지 생성이 완료되지 않았습니다: {missing}\")\n",
    "    print(\"1_image_generation.ipynb를 먼저 실행하세요.\")\n",
    "else:\n",
    "    print(\"\\n✅ 모든 이미지 준비 완료!\")"
   ]
  },
  {
   "cell_type": "markdown",
   "metadata": {
    "id": "training_header"
   },
   "source": [
    "## 🧠 CNN 모델 학습"
   ]
  },
  {
   "cell_type": "code",
   "execution_count": null,
   "metadata": {
    "id": "train_cnn5d"
   },
   "outputs": [],
   "source": [
    "# CNN5d 모델 학습\n",
    "print(\"🧠 CNN5d 학습 시작...\")\n",
    "!python main.py --model CNN5d --image_days 5 --pred_days 5\n",
    "\n",
    "# 메모리 정리\n",
    "import gc\n",
    "if torch.cuda.is_available():\n",
    "    torch.cuda.empty_cache()\n",
    "gc.collect()\n",
    "print(\"✅ CNN5d 완료\")"
   ]
  },
  {
   "cell_type": "code",
   "execution_count": null,
   "metadata": {
    "id": "train_cnn20d"
   },
   "outputs": [],
   "source": [
    "# CNN20d 모델 학습\n",
    "print(\"🧠 CNN20d 학습 시작...\")\n",
    "!python main.py --model CNN20d --image_days 20 --pred_days 20\n",
    "\n",
    "# 메모리 정리\n",
    "import gc\n",
    "if torch.cuda.is_available():\n",
    "    torch.cuda.empty_cache()\n",
    "gc.collect()\n",
    "print(\"✅ CNN20d 완료\")"
   ]
  },
  {
   "cell_type": "code",
   "execution_count": null,
   "metadata": {
    "id": "train_cnn60d"
   },
   "outputs": [],
   "source": [
    "# CNN60d 모델 학습\n",
    "print(\"🧠 CNN60d 학습 시작...\")\n",
    "!python main.py --model CNN60d --image_days 60 --pred_days 60\n",
    "\n",
    "# 메모리 정리\n",
    "import gc\n",
    "if torch.cuda.is_available():\n",
    "    torch.cuda.empty_cache()\n",
    "gc.collect()\n",
    "print(\"✅ CNN60d 완료\")"
   ]
  },
  {
   "cell_type": "markdown",
   "metadata": {
    "id": "evaluation_header"
   },
   "source": [
    "## 📈 포트폴리오 성과 평가"
   ]
  },
  {
   "cell_type": "code",
   "execution_count": null,
   "metadata": {
    "id": "test_models"
   },
   "outputs": [],
   "source": [
    "# 모든 모델 평가\n",
    "print(\"📈 포트폴리오 성과 평가 시작...\\n\")\n",
    "\n",
    "print(\"1️⃣ CNN5d (Weekly Strategy)\")\n",
    "!python test.py --model CNN5d --image_days 5 --pred_days 5\n",
    "\n",
    "print(\"\\n2️⃣ CNN20d (Monthly Strategy)\")\n",
    "!python test.py --model CNN20d --image_days 20 --pred_days 20\n",
    "\n",
    "print(\"\\n3️⃣ CNN60d (Quarterly Strategy)\")\n",
    "!python test.py --model CNN60d --image_days 60 --pred_days 60"
   ]
  },
  {
   "cell_type": "markdown",
   "metadata": {
    "id": "visualization_header"
   },
   "source": [
    "## 결과 시각화"
   ]
  },
  {
   "cell_type": "code",
   "execution_count": null,
   "metadata": {
    "id": "plot_training"
   },
   "outputs": [],
   "source": [
    "# 학습 곡선 시각화\n",
    "import pandas as pd\n",
    "import matplotlib.pyplot as plt\n",
    "\n",
    "models = ['CNN5d_I5R5', 'CNN20d_I20R20', 'CNN60d_I60R60']\n",
    "fig, axes = plt.subplots(2, 3, figsize=(18, 10))\n",
    "fig.suptitle('Training Curves', fontsize=16, fontweight='bold')\n",
    "\n",
    "for i, model in enumerate(models):\n",
    "    log_file = f'logs/{model}.csv'\n",
    "    if os.path.exists(log_file):\n",
    "        df = pd.read_csv(log_file)\n",
    "        \n",
    "        # Loss\n",
    "        axes[0, i].plot(df['train_loss'], 'b-', label='Train', linewidth=2)\n",
    "        axes[0, i].plot(df['valid_loss'], 'r-', label='Valid', linewidth=2)\n",
    "        axes[0, i].set_title(f'{model} - Loss')\n",
    "        axes[0, i].legend()\n",
    "        axes[0, i].grid(True, alpha=0.3)\n",
    "        \n",
    "        # Accuracy\n",
    "        axes[1, i].plot(df['train_acc'], 'b-', label='Train', linewidth=2)\n",
    "        axes[1, i].plot(df['valid_acc'], 'r-', label='Valid', linewidth=2)\n",
    "        axes[1, i].set_title(f'{model} - Accuracy')\n",
    "        axes[1, i].legend()\n",
    "        axes[1, i].grid(True, alpha=0.3)\n",
    "        \n",
    "        final_acc = df['valid_acc'].iloc[-1]\n",
    "        print(f\"📊 {model}: 최종 검증 정확도 = {final_acc:.4f}\")\n",
    "\n",
    "plt.tight_layout()\n",
    "plt.show()"
   ]
  },
  {
   "cell_type": "code",
   "execution_count": null,
   "metadata": {
    "id": "summary"
   },
   "outputs": [],
   "source": [
    "# 최종 결과 요약\n",
    "print(\"🎯 Re-Imaging Price Trends - 실행 완료!\")\n",
    "print(\"=\" * 50)\n",
    "\n",
    "# 파일 크기 요약\n",
    "if os.path.exists('models'):\n",
    "    print(\"\\n🧠 학습된 모델:\")\n",
    "    for file in sorted(os.listdir('models')):\n",
    "        if file.endswith('.tar'):\n",
    "            size_mb = os.path.getsize(f'models/{file}') / (1024**2)\n",
    "            print(f\"   ✅ {file} ({size_mb:.1f}MB)\")\n",
    "\n",
    "# 논문 성과와 비교\n",
    "print(\"\\n📚 논문 예상 성과 (비교 참조):\")\n",
    "print(\"   • Weekly (I5R5): H-L Sharpe = 7.15\")\n",
    "print(\"   • Monthly (I20R20): H-L Sharpe = 2.16\") \n",
    "print(\"   • Quarterly (I60R60): H-L Sharpe = 0.37\")\n",
    "\n",
    "print(\"\\n✅ 위의 포트폴리오 평가 결과와 비교해보세요!\")"
   ]
  }
 ],
 "metadata": {
  "accelerator": "GPU",
  "colab": {
   "gpuType": "T4",
   "provenance": []
  },
  "kernelspec": {
   "display_name": "Python 3",
   "name": "python3"
  },
  "language_info": {
   "name": "python"
  }
 },
 "nbformat": 4,
 "nbformat_minor": 0
}
