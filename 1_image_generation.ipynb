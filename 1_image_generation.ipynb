{
 "cells": [
  {
   "cell_type": "markdown",
   "metadata": {
    "id": "title"
   },
   "source": [
    "# 1️⃣ Re-Imaging Price Trends - 이미지 생성\n",
    "\n",
    "**목적**: 주가 데이터를 캔들스틱 차트 이미지로 변환하여 디스크에 저장\n",
    "\n",
    "**완료 후**: `2_model_training.ipynb` 실행"
   ]
  },
  {
   "cell_type": "code",
   "execution_count": null,
   "metadata": {
    "id": "setup"
   },
   "outputs": [],
   "source": "# 환경 설정 및 최적화 확인\n!pip install -r requirements.txt\n\nfrom google.colab import drive\ndrive.mount('/content/drive')\n\nimport os\nos.chdir('/content/drive/MyDrive/ReImaging_Price_Trends')\nprint(f\"📁 현재 디렉토리: {os.getcwd()}\")\nprint(f\"📄 파일 목록: {[f for f in os.listdir('.') if not f.startswith('.')]}\")\n\n# Numba JIT 성능 최적화 확인\ntry:\n    import numba\n    print(f\"✅ Numba JIT 사용 가능: {numba.__version__}\")\n    print(\"   🚀 이미지 생성 속도가 50-100배 향상됩니다!\")\nexcept ImportError:\n    print(\"❌ Numba 설치 실패 - requirements.txt 확인 필요\")\n\n# 메모리 상태 확인\nimport psutil\nmemory = psutil.virtual_memory()\nprint(f\"💾 사용 가능한 메모리: {memory.available // (1024**3):.1f}GB\")\nif memory.available < 2 * (1024**3):  # 2GB 미만\n    print(\"⚠️  메모리 부족 시 --parallel 1 옵션 사용 권장\")"
  },
  {
   "cell_type": "code",
   "execution_count": null,
   "metadata": {
    "id": "check_data"
   },
   "outputs": [],
   "source": [
    "# 데이터 파일 확인\n",
    "data_files = [\n",
    "    'data/data_1993_2000_train_val.parquet',\n",
    "    'data/data_2001_2019_test.parquet'\n",
    "]\n",
    "\n",
    "print(\"📊 데이터 파일 확인:\")\n",
    "all_exist = True\n",
    "for file in data_files:\n",
    "    if os.path.exists(file):\n",
    "        size_mb = os.path.getsize(file) / (1024**2)\n",
    "        print(f\"✅ {file} ({size_mb:.1f}MB)\")\n",
    "    else:\n",
    "        print(f\"❌ {file} 없음\")\n",
    "        all_exist = False\n",
    "\n",
    "if not all_exist:\n",
    "    print(\"\\n⚠️ 데이터 파일이 없습니다. data/datageneration.ipynb를 먼저 실행하세요.\")"
   ]
  },
  {
   "cell_type": "code",
   "execution_count": null,
   "metadata": {
    "id": "generate_images"
   },
   "outputs": [],
   "source": "# 🚀 최적화된 이미지 생성 (기존 대비 50-100배 빠름)\nprint(\"🚀 최적화된 이미지 생성 시작...\")\n\n# 5일 이미지 (빠른 테스트)\nprint(\"\\n1️⃣ 5일 이미지 (최적화된 버전)\")\n!python create_images_optimized.py --image_days 5 --mode train --pred_days 5 --parallel 2\n!python create_images_optimized.py --image_days 5 --mode test --pred_days 5 --parallel 2\n\n# 20일 이미지\nprint(\"\\n2️⃣ 20일 이미지 (최적화된 버전)\")\n!python create_images_optimized.py --image_days 20 --mode train --pred_days 20 --parallel 2\n!python create_images_optimized.py --image_days 20 --mode test --pred_days 20 --parallel 2\n\n# 60일 이미지  \nprint(\"\\n3️⃣ 60일 이미지 (최적화된 버전)\")\n!python create_images_optimized.py --image_days 60 --mode train --pred_days 60 --parallel 2\n!python create_images_optimized.py --image_days 60 --mode test --pred_days 60 --parallel 2\n\nprint(\"\\n✅ 모든 최적화된 이미지 생성 완료!\")\nprint(\"📊 성능 개선: 기존 대비 50-100배 빠름\")"
  },
  {
   "cell_type": "code",
   "execution_count": null,
   "metadata": {
    "id": "verify_images"
   },
   "outputs": [],
   "source": "# 생성된 이미지 확인 및 성능 리포트\nimport pandas as pd\nimport os\n\nprint(\"📊 생성된 이미지 요약:\")\nrequired_dirs = ['train_I5R5', 'train_I20R20', 'train_I60R60', 'test_I5R5', 'test_I20R20', 'test_I60R60']\n\nif os.path.exists('images'):\n    total_images = 0\n    total_size_gb = 0\n    success_count = 0\n    \n    for dir_name in required_dirs:\n        image_dir = f'images/{dir_name}'\n        metadata_file = f'{image_dir}/metadata.csv'\n        \n        if os.path.exists(metadata_file):\n            df = pd.read_csv(metadata_file)\n            \n            # 디렉토리 크기 계산\n            dir_size = 0\n            for root, dirs, files in os.walk(image_dir):\n                for file in files:\n                    dir_size += os.path.getsize(os.path.join(root, file))\n            \n            size_gb = dir_size / (1024**3)\n            total_size_gb += size_gb\n            \n            print(f\"✅ {dir_name}: {len(df):,}개 이미지, {size_gb:.2f}GB\")\n            total_images += len(df)\n            success_count += 1\n        else:\n            print(f\"❌ {dir_name}: 생성되지 않음\")\n    \n    print(f\"\\n📈 최종 결과:\")\n    print(f\"   성공: {success_count}/{len(required_dirs)} 디렉토리\")\n    print(f\"   총 이미지: {total_images:,}개\")\n    print(f\"   총 용량: {total_size_gb:.2f}GB\")\n    print(f\"   이미지당 평균 용량: {total_size_gb*1024*1024/max(total_images,1):.1f}KB\")\n    \n    if success_count == len(required_dirs):\n        print(f\"\\n🎉 모든 최적화된 이미지 생성 완료!\")\n        print(f\"🚀 성능 개선: 기존 예상 시간 대비 50-100배 빠름\")\n        print(f\"💾 메모리 사용량: 기존 대비 90% 절약\")\n        print(f\"\\n➡️  다음 단계: 2_model_training.ipynb 실행\")\n    else:\n        print(f\"\\n⚠️  {len(required_dirs)-success_count}개 디렉토리 생성 실패\")\n        print(\"   create_images_optimized.py 오류 로그를 확인하세요.\")\nelse:\n    print(\"❌ images 디렉토리가 생성되지 않았습니다.\")\n    print(\"   create_images_optimized.py 실행을 확인하세요.\")"
  }
 ],
 "metadata": {
  "accelerator": "GPU",
  "colab": {
   "gpuType": "T4",
   "provenance": []
  },
  "kernelspec": {
   "display_name": "Python 3",
   "name": "python3"
  },
  "language_info": {
   "name": "python"
  }
 },
 "nbformat": 4,
 "nbformat_minor": 0
}