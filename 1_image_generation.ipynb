{
 "cells": [
  {
   "cell_type": "markdown",
   "metadata": {
    "id": "title"
   },
   "source": [
    "# 1️⃣ Re-Imaging Price Trends - 이미지 생성\n",
    "\n",
    "**목적**: 주가 데이터를 캔들스틱 차트 이미지로 변환하여 디스크에 저장\n",
    "\n",
    "**완료 후**: `2_model_training.ipynb` 실행"
   ]
  },
  {
   "cell_type": "code",
   "execution_count": null,
   "metadata": {
    "id": "setup"
   },
   "outputs": [],
   "source": "# 환경 설정 및 최적화 확인\n!pip install -r requirements.txt\n\nfrom google.colab import drive\ndrive.mount('/content/drive')\n\nimport os\nos.chdir('/content/drive/MyDrive/ReImaging_Price_Trends')\nprint(f\"📁 현재 디렉토리: {os.getcwd()}\")\nprint(f\"📄 파일 목록: {[f for f in os.listdir('.') if not f.startswith('.')]}\")\n\n# Numba JIT 성능 최적화 확인\ntry:\n    import numba\n    print(f\"✅ Numba JIT 사용 가능: {numba.__version__}\")\n    print(\"   🚀 이미지 생성 속도가 50-100배 향상됩니다!\")\nexcept ImportError:\n    print(\"❌ Numba 설치 실패 - requirements.txt 확인 필요\")\n\n# 메모리 상태 확인\nimport psutil\nmemory = psutil.virtual_memory()\nprint(f\"💾 사용 가능한 메모리: {memory.available // (1024**3):.1f}GB\")\nif memory.available < 2 * (1024**3):  # 2GB 미만\n    print(\"⚠️  메모리 부족 시 --parallel 1 옵션 사용 권장\")"
  },
  {
   "cell_type": "code",
   "execution_count": null,
   "metadata": {
    "id": "check_data"
   },
   "outputs": [],
   "source": [
    "# 데이터 파일 확인\n",
    "data_files = [\n",
    "    'data/data_1993_2000_train_val.parquet',\n",
    "    'data/data_2001_2019_test.parquet'\n",
    "]\n",
    "\n",
    "print(\"📊 데이터 파일 확인:\")\n",
    "all_exist = True\n",
    "for file in data_files:\n",
    "    if os.path.exists(file):\n",
    "        size_mb = os.path.getsize(file) / (1024**2)\n",
    "        print(f\"✅ {file} ({size_mb:.1f}MB)\")\n",
    "    else:\n",
    "        print(f\"❌ {file} 없음\")\n",
    "        all_exist = False\n",
    "\n",
    "if not all_exist:\n",
    "    print(\"\\n⚠️ 데이터 파일이 없습니다. data/datageneration.ipynb를 먼저 실행하세요.\")"
   ]
  },
  {
   "cell_type": "code",
   "execution_count": null,
   "metadata": {
    "id": "generate_images"
   },
   "outputs": [],
   "source": "# 🚀 논문 저자 원본 형식 이미지 생성 (.dat + .feather)\nprint(\"🚀 원본 형식 이미지 생성 시작...\")\n\n# 5일 이미지 (원본 형식)\nprint(\"\\n1️⃣ 5일 이미지 (원본 형식)\")\n!python create_original_format.py --image_days 5 --mode train --sample_rate 1.0\n!python create_original_format.py --image_days 5 --mode test --sample_rate 1.0\n\n# 20일 이미지 (원본 형식)\nprint(\"\\n2️⃣ 20일 이미지 (원본 형식)\")\n!python create_original_format.py --image_days 20 --mode train --sample_rate 1.0\n!python create_original_format.py --image_days 20 --mode test --sample_rate 1.0\n\n# 60일 이미지 (원본 형식)\nprint(\"\\n3️⃣ 60일 이미지 (원본 형식)\")\n!python create_original_format.py --image_days 60 --mode train --sample_rate 1.0\n!python create_original_format.py --image_days 60 --mode test --sample_rate 1.0\n\nprint(\"\\n✅ 모든 원본 형식 이미지 생성 완료!\")\nprint(\"📊 저장 형식: .dat (이미지) + .feather (라벨)\")"
  },
  {
   "cell_type": "code",
   "execution_count": null,
   "metadata": {
    "id": "verify_images"
   },
   "outputs": [],
   "source": "# 생성된 원본 형식 이미지 확인\nimport pandas as pd\nimport os\nimport numpy as np\n\nprint(\"📊 생성된 원본 형식 이미지 요약:\")\n\n# 원본 형식 디렉토리 확인\noriginal_dirs = {\n    'weekly_5d': (5, '5d_week_has_vb_[5]_ma'),\n    'monthly_20d': (20, '20d_month_has_vb_[20]_ma'), \n    'quarterly_60d': (60, '60d_quarter_has_vb_[60]_ma')\n}\n\nbase_dir = 'img_data_reconstructed'\nif os.path.exists(base_dir):\n    total_images = 0\n    total_size_gb = 0\n    success_count = 0\n    \n    for dir_name, (win_size, prefix) in original_dirs.items():\n        img_dir = os.path.join(base_dir, dir_name)\n        \n        if os.path.exists(img_dir):\n            # .dat 및 .feather 파일 확인\n            dat_files = [f for f in os.listdir(img_dir) if f.endswith('.dat')]\n            feather_files = [f for f in os.listdir(img_dir) if f.endswith('.feather')]\n            \n            dir_images = 0\n            dir_size = 0\n            \n            # 각 연도별 파일 확인\n            for dat_file in dat_files:\n                dat_path = os.path.join(img_dir, dat_file)\n                \n                # 이미지 개수 계산 (.dat 파일 크기 기반)\n                file_size = os.path.getsize(dat_path)\n                if win_size == 5:\n                    image_size = 32 * 15  # 5일: 32x15\n                elif win_size == 20:\n                    image_size = 64 * 60  # 20일: 64x60  \n                else:  # 60\n                    image_size = 96 * 180  # 60일: 96x180\n                \n                num_images = file_size // image_size\n                dir_images += num_images\n                dir_size += file_size\n            \n            # .feather 파일 크기 추가\n            for feather_file in feather_files:\n                feather_path = os.path.join(img_dir, feather_file)\n                dir_size += os.path.getsize(feather_path)\n            \n            size_gb = dir_size / (1024**3)\n            total_size_gb += size_gb\n            \n            print(f\"✅ {dir_name}: {dir_images:,}개 이미지, {size_gb:.2f}GB\")\n            print(f\"   .dat 파일: {len(dat_files)}개, .feather 파일: {len(feather_files)}개\")\n            \n            total_images += dir_images\n            success_count += 1\n        else:\n            print(f\"❌ {dir_name}: 생성되지 않음\")\n    \n    print(f\"\\n📈 최종 결과:\")\n    print(f\"   성공: {success_count}/{len(original_dirs)} 디렉토리\")\n    print(f\"   총 이미지: {total_images:,}개\")\n    print(f\"   총 용량: {total_size_gb:.2f}GB\")\n    print(f\"   이미지당 평균 용량: {total_size_gb*1024*1024/max(total_images,1):.1f}KB\")\n    \n    if success_count == len(original_dirs):\n        print(f\"\\n🎉 모든 원본 형식 이미지 생성 완료!\")\n        print(f\"📁 저장 경로: {base_dir}/\")\n        print(f\"📊 형식: .dat (바이너리 이미지) + .feather (라벨)\")\n        print(f\"\\n➡️  논문 저자 원본과 동일한 형식으로 저장됨\")\n    else:\n        print(f\"\\n⚠️  {len(original_dirs)-success_count}개 디렉토리 생성 실패\")\n        print(\"   create_original_format.py 오류 로그를 확인하세요.\")\n        \n    # label_columns.txt 파일 확인\n    label_file = os.path.join(base_dir, 'label_columns.txt')\n    if os.path.exists(label_file):\n        print(f\"\\n📋 메타데이터: {label_file} 생성됨\")\n        with open(label_file, 'r') as f:\n            print(\"   내용:\")\n            for line in f.readlines()[:3]:  # 처음 3줄만 표시\n                print(f\"   {line.strip()}\")\nelse:\n    print(f\"❌ {base_dir} 디렉토리가 생성되지 않았습니다.\")\n    print(\"   create_original_format.py 실행을 확인하세요.\")"
  }
 ],
 "metadata": {
  "accelerator": "GPU",
  "colab": {
   "gpuType": "T4",
   "provenance": []
  },
  "kernelspec": {
   "display_name": "Python 3",
   "name": "python3"
  },
  "language_info": {
   "name": "python"
  }
 },
 "nbformat": 4,
 "nbformat_minor": 0
}